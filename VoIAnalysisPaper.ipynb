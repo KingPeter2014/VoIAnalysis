{
 "cells": [
  {
   "cell_type": "markdown",
   "metadata": {},
   "source": [
    "\n",
    "<h3>EVPI and EVPXI Calculation for ICU bed preparedness based on $R_0$, Case Seveirity and Child Infectiousness </h3>\n",
    "Both single parameter and combined parameter analysis were carried out. <br>\n",
    "\n",
    "References:\n",
    "\n",
    "Making the best use of experts' estimates to prioritise monitoring and management actions: A freshwater case study (https://doi.org/10.1016/j.jenvman.2018.03.068)\n",
    "\n",
    "https://wiki.analytica.com/index.php?title=Expected_value_of_information_--_EVI,_EVPI,_and_ESVI&title=Expected_value_of_information_--_EVI,_EVPI,_and_ESVI"
   ]
  },
  {
   "cell_type": "code",
   "execution_count": 1,
   "metadata": {},
   "outputs": [
    {
     "name": "stderr",
     "output_type": "stream",
     "text": [
      "C:\\ProgramData\\Anaconda3\\lib\\site-packages\\numpy\\_distributor_init.py:32: UserWarning: loaded more than 1 DLL from .libs:\n",
      "C:\\ProgramData\\Anaconda3\\lib\\site-packages\\numpy\\.libs\\libopenblas.NOIJJG62EMASZI6NYURL6JBKM4EVBGM7.gfortran-win_amd64.dll\n",
      "C:\\ProgramData\\Anaconda3\\lib\\site-packages\\numpy\\.libs\\libopenblas.PYQHXLVVQ7VESDPUVUADXEVJOBGHJPAY.gfortran-win_amd64.dll\n",
      "C:\\ProgramData\\Anaconda3\\lib\\site-packages\\numpy\\.libs\\libopenblas.WCDJNK7YVMPZQ2ME2ZZHJJRJ3JIKNDB7.gfortran-win_amd64.dll\n",
      "  stacklevel=1)\n"
     ]
    }
   ],
   "source": [
    "#Important library importation\n",
    "import numpy as np\n",
    "#import warnings\n",
    "import copy\n",
    "import matplotlib.pyplot as plt\n",
    "from matplotlib.ticker import FuncFormatter\n",
    "import pandas as pd\n",
    "import seaborn as sns\n",
    "from itertools import chain"
   ]
  },
  {
   "cell_type": "markdown",
   "metadata": {},
   "source": [
    "<h2> Data for VoI study</h2>\n",
    "0 - CI05,1 - CI95, 2 - Mean\n",
    "\n",
    "### Load output of Transmission model and Model of Care Simulation Data from Excel Sheets"
   ]
  },
  {
   "cell_type": "code",
   "execution_count": 27,
   "metadata": {},
   "outputs": [],
   "source": [
    "\n",
    "r4_df = pd.read_excel(r'C:\\Users\\ezep\\Desktop\\SPARKSPECTRUM\\Data\\EVPXIData2.xlsx', sheet_name='Fiji Urban',header=None)\n",
    "r4_df_T= r4_df.transpose()\n",
    "reg4Payoffs = r4_df_T.values.tolist()\n",
    "reg4CI95 = reg4Payoffs[1]\n",
    "\n",
    "# Belief in each hypothesis or state of nature. This must sum to 1. It is a joint Probability distribution\n",
    "Priors_df = pd.read_excel(r'C:\\Users\\ezep\\Desktop\\SPARKSPECTRUM\\Data\\EVPXIData2.xlsx', sheet_name='Priors',header=None)\n",
    "Priors_df_T= Priors_df.transpose()\n",
    "priorBeliefs = Priors_df_T.values.tolist()\n",
    "beliefInStateAll = list(chain.from_iterable(priorBeliefs)) #flatten to 1-D array\n"
   ]
  },
  {
   "cell_type": "code",
   "execution_count": 28,
   "metadata": {},
   "outputs": [
    {
     "data": {
      "text/html": [
       "<div>\n",
       "<style scoped>\n",
       "    .dataframe tbody tr th:only-of-type {\n",
       "        vertical-align: middle;\n",
       "    }\n",
       "\n",
       "    .dataframe tbody tr th {\n",
       "        vertical-align: top;\n",
       "    }\n",
       "\n",
       "    .dataframe thead th {\n",
       "        text-align: right;\n",
       "    }\n",
       "</style>\n",
       "<table border=\"1\" class=\"dataframe\">\n",
       "  <thead>\n",
       "    <tr style=\"text-align: right;\">\n",
       "      <th></th>\n",
       "      <th>0</th>\n",
       "      <th>1</th>\n",
       "      <th>2</th>\n",
       "    </tr>\n",
       "  </thead>\n",
       "  <tbody>\n",
       "    <tr>\n",
       "      <th>22</th>\n",
       "      <td>0.000000</td>\n",
       "      <td>102.06</td>\n",
       "      <td>38.37</td>\n",
       "    </tr>\n",
       "    <tr>\n",
       "      <th>23</th>\n",
       "      <td>0.000000</td>\n",
       "      <td>156.60</td>\n",
       "      <td>56.28</td>\n",
       "    </tr>\n",
       "    <tr>\n",
       "      <th>24</th>\n",
       "      <td>42.496132</td>\n",
       "      <td>1388.93</td>\n",
       "      <td>550.07</td>\n",
       "    </tr>\n",
       "    <tr>\n",
       "      <th>25</th>\n",
       "      <td>117.670179</td>\n",
       "      <td>1584.26</td>\n",
       "      <td>713.25</td>\n",
       "    </tr>\n",
       "    <tr>\n",
       "      <th>26</th>\n",
       "      <td>195.139626</td>\n",
       "      <td>1484.79</td>\n",
       "      <td>774.20</td>\n",
       "    </tr>\n",
       "  </tbody>\n",
       "</table>\n",
       "</div>"
      ],
      "text/plain": [
       "             0        1       2\n",
       "22    0.000000   102.06   38.37\n",
       "23    0.000000   156.60   56.28\n",
       "24   42.496132  1388.93  550.07\n",
       "25  117.670179  1584.26  713.25\n",
       "26  195.139626  1484.79  774.20"
      ]
     },
     "execution_count": 28,
     "metadata": {},
     "output_type": "execute_result"
    }
   ],
   "source": [
    "r4_df.tail()"
   ]
  },
  {
   "cell_type": "code",
   "execution_count": 29,
   "metadata": {},
   "outputs": [
    {
     "data": {
      "text/plain": [
       "[[0.037037037037037035,\n",
       "  0.037037037037037035,\n",
       "  0.037037037037037035,\n",
       "  0.037037037037037035,\n",
       "  0.037037037037037035,\n",
       "  0.037037037037037035,\n",
       "  0.037037037037037035,\n",
       "  0.037037037037037035,\n",
       "  0.037037037037037035,\n",
       "  0.037037037037037035,\n",
       "  0.037037037037037035,\n",
       "  0.037037037037037035,\n",
       "  0.037037037037037035,\n",
       "  0.037037037037037035,\n",
       "  0.037037037037037035,\n",
       "  0.037037037037037035,\n",
       "  0.037037037037037035,\n",
       "  0.037037037037037035,\n",
       "  0.037037037037037035,\n",
       "  0.037037037037037035,\n",
       "  0.037037037037037035,\n",
       "  0.037037037037037035,\n",
       "  0.037037037037037035,\n",
       "  0.037037037037037035,\n",
       "  0.037037037037037035,\n",
       "  0.037037037037037035,\n",
       "  0.037037037037037035],\n",
       " [0.125,\n",
       "  0.05,\n",
       "  0.075,\n",
       "  0.05,\n",
       "  0.020000000000000004,\n",
       "  0.03,\n",
       "  0.075,\n",
       "  0.03,\n",
       "  0.045,\n",
       "  0.05,\n",
       "  0.020000000000000004,\n",
       "  0.03,\n",
       "  0.020000000000000004,\n",
       "  0.008000000000000002,\n",
       "  0.012000000000000002,\n",
       "  0.03,\n",
       "  0.012,\n",
       "  0.018,\n",
       "  0.075,\n",
       "  0.03,\n",
       "  0.045,\n",
       "  0.03,\n",
       "  0.012,\n",
       "  0.018,\n",
       "  0.045,\n",
       "  0.018,\n",
       "  0.027],\n",
       " [0.027,\n",
       "  0.045,\n",
       "  0.018,\n",
       "  0.045,\n",
       "  0.075,\n",
       "  0.03,\n",
       "  0.018,\n",
       "  0.03,\n",
       "  0.012,\n",
       "  0.045,\n",
       "  0.075,\n",
       "  0.03,\n",
       "  0.075,\n",
       "  0.125,\n",
       "  0.05,\n",
       "  0.03,\n",
       "  0.05,\n",
       "  0.020000000000000004,\n",
       "  0.018,\n",
       "  0.020000000000000004,\n",
       "  0.012,\n",
       "  0.03,\n",
       "  0.05,\n",
       "  0.020000000000000004,\n",
       "  0.012000000000000002,\n",
       "  0.020000000000000004,\n",
       "  0.008000000000000002],\n",
       " [0.008,\n",
       "  0.012,\n",
       "  0.02,\n",
       "  0.012,\n",
       "  0.018,\n",
       "  0.03,\n",
       "  0.02,\n",
       "  0.03,\n",
       "  0.05,\n",
       "  0.012,\n",
       "  0.018,\n",
       "  0.03,\n",
       "  0.018,\n",
       "  0.027,\n",
       "  0.045,\n",
       "  0.03,\n",
       "  0.045,\n",
       "  0.075,\n",
       "  0.02,\n",
       "  0.03,\n",
       "  0.05,\n",
       "  0.03,\n",
       "  0.045,\n",
       "  0.075,\n",
       "  0.05,\n",
       "  0.075,\n",
       "  0.125]]"
      ]
     },
     "execution_count": 29,
     "metadata": {},
     "output_type": "execute_result"
    }
   ],
   "source": [
    "#Labels for the 27 scenarios examined \n",
    "labels = ['S1', 'S2', 'S3','S4', 'S5', 'S6','S7', 'S8', 'S9','S10', 'S11', 'S12','S13', 'S14', 'S15','S16', 'S17', 'S18',\n",
    "         'S19', 'S20', 'S21','S22', 'S23', 'S24', 'S25', 'S26', 'S27']\n",
    "#Priors_df_T\n",
    "priorBeliefs"
   ]
  },
  {
   "cell_type": "code",
   "execution_count": 30,
   "metadata": {},
   "outputs": [
    {
     "name": "stdout",
     "output_type": "stream",
     "text": [
      "[0.008, 0.012, 0.02, 0.012, 0.018, 0.03, 0.02, 0.03, 0.05, 0.012, 0.018, 0.03, 0.018, 0.027, 0.045, 0.03, 0.045, 0.075, 0.02, 0.03, 0.05, 0.03, 0.045, 0.075, 0.05, 0.075, 0.125]\n"
     ]
    }
   ],
   "source": [
    "print(priorBeliefs[3]) #Strong belief in severe outbreak"
   ]
  },
  {
   "cell_type": "markdown",
   "metadata": {},
   "source": [
    "\n",
    "### General Parameters"
   ]
  },
  {
   "cell_type": "code",
   "execution_count": 31,
   "metadata": {},
   "outputs": [],
   "source": [
    "region = 'region4'\n",
    "actions = np.arange(0,201,50) # Increment ICU bed by action(a) to prepare for outbreak\n",
    "numberOfActions = len(actions)\n",
    "\n",
    "\n",
    "#Excess allocation to COVID - Scaling factor\n",
    "gammas = np.arange(0,1.1,0.1) # from 0 to 1\n",
    "\n"
   ]
  },
  {
   "cell_type": "markdown",
   "metadata": {},
   "source": [
    "<H3> Helper Functions</H3>"
   ]
  },
  {
   "cell_type": "code",
   "execution_count": 18,
   "metadata": {},
   "outputs": [],
   "source": [
    "\n",
    "def EVUncertainty(payoff,beliefs):\n",
    "    return np.dot(payoff,beliefs)\n",
    "def renormaliseBeliefs(otherBeliefs,falseBelief):\n",
    "    return np.divide(otherBeliefs,falseBelief)\n",
    "def removeCurrentPayoffs(payOfs,location):\n",
    "    del payOfs[location] \n",
    "    return payOfs\n",
    "def getActionName(actionNumber):\n",
    "    nm =\"\"\n",
    "    if actionNumber == 0:\n",
    "        nm = 'Do Nothing'\n",
    "    elif actionNumber == 1:\n",
    "        nm = 'Increment50'\n",
    "    elif actionNumber == 2:\n",
    "        nm = 'Increment100'\n",
    "    elif actionNumber == 3:\n",
    "        nm = 'Increment150'\n",
    "    elif actionNumber == 4:\n",
    "        nm = 'Increment200'\n",
    "    return nm    \n",
    "def loadExperiment(reg,anaType,priorBeliefs,regionpayoffs,befielfDistribution=3):\n",
    "    global labels #For ploting of VoI Results especially EVPXI\n",
    "    if anaType==\"Severity\":\n",
    "        beliefInState=priorBeliefs[0]\n",
    "        priorBeliefs = beliefInState\n",
    "        labels =['CS(Low)','CS(Medium)','CS(High)']\n",
    "        payoffs = regionpayoffs[0]\n",
    "        \n",
    "    elif anaType==\"R0\":\n",
    "        beliefInState=priorBeliefs[1]\n",
    "        priorBeliefs = beliefInState\n",
    "        labels =['$R_0$(Low)','$R_0$(Medium)','$R_0$(High)']\n",
    "        payoffs = regionpayoffs[1]\n",
    "    elif anaType==\"ChildInf\":\n",
    "        beliefInState=priorBeliefs[2]\n",
    "        priorBeliefs = beliefInState\n",
    "        labels =['ChildInfLow','ChildInfMedium','ChildInfHigh']\n",
    "        payoffs = regionpayoffs[2]\n",
    "    elif anaType==\"All\":\n",
    "        beliefInState= priorBeliefs[befielfDistribution]\n",
    "        payoffs = regionpayoffs[1] # CI95 outputs\n",
    "        \n",
    "    return beliefInState,payoffs\n",
    "\n",
    "def validateInputs(beliefInState,payoffs):\n",
    "    chk = round(np.sum(np.array(beliefInState)),2)\n",
    "    payoffNum = np.array(payoffs).shape\n",
    "    numOfStates = len(beliefInState)\n",
    "    if chk != 1:\n",
    "        warnings.warn('Belief in State is not a probability distribution')\n",
    "    print(f\"Sum of probabilities = {chk}\")\n",
    "    if numOfStates != payoffNum[0]:\n",
    "        warnings.warn('Number of States of nature must equal number of Payoffs for each action alternative')\n",
    "        print(f\"Number of states = {numOfStates}, Number of payoff per action = {payoffNum[1]}\")\n",
    "\n",
    "def computeLostLifeYears(numberOfInitialICUBeds,numberOfICUBedsToAdd,costOfICUBed,lifeGainedPerICUBeds):\n",
    "    lly = 0\n",
    "    \n",
    "def newPayoff(requiredBeds,incrementByBeds,scaleBy):\n",
    "    us = requiredBeds - incrementByBeds\n",
    "    if us < 0:\n",
    "        us = abs(us)*scaleBy\n",
    "    return us\n",
    "def generateNewPayoffs(payoffs,scaleFactor,numberOfActions,numOfStates):\n",
    "    updatedPayoffs =[[0 for i in range(numOfStates)] for j in range(numberOfActions) ]\n",
    "    for i in range(numberOfActions):\n",
    "        for j in range(numOfStates):\n",
    "            updatedPayoffs[i][j] = newPayoff(payoffs[j],actions[i],scaleFactor)\n",
    "            #print(i,j)\n",
    "    return updatedPayoffs"
   ]
  },
  {
   "cell_type": "markdown",
   "metadata": {},
   "source": [
    "<h2> Initialise data  and variables to run specific analysis in a Region </h2>"
   ]
  },
  {
   "cell_type": "code",
   "execution_count": 34,
   "metadata": {},
   "outputs": [
    {
     "name": "stdout",
     "output_type": "stream",
     "text": [
      "[  0  50 100 150 200]\n"
     ]
    }
   ],
   "source": [
    "#Select the Type of Analysis (Parameter) to analyse in this run\n",
    "analysisType = 'All' #All,Severity,R0,ChildInf: Choose one of this to perform different VoI analysis\n",
    "#actions = np.arange(0,201,50) # Increment ICU bed by action(a) to prepare for outbreak\n",
    "\n",
    "#payoffs = []\n",
    "#beliefInState = []\n",
    "#labels = []\n",
    "\n",
    "\n",
    "#Validate Inputs and ensure probabilities sum to 1\n",
    "\n",
    "\n",
    "#updatedPayoffs =[[0 for i in range(numOfStates)] for j in range(numberOfActions) ] #updatedPayoffs  = [numberOfActions][numOfStates]\n",
    "\n",
    "\n",
    "#Create the new payoff matrix using the actions and the CI95 out of simulation for each of the hypothesis\n",
    "#scaleBy = 0.7\n",
    "#updatedPayoffs = generateNewPayoffs(scaleBy)\n",
    "#print(updatedPayoffs)\n",
    "\n",
    "# Number of ICU beds to acquire for a chosen action plan while preparing for COVID-19 outbreak\n",
    "print(actions)\n",
    "#print(f\"One of the {numberOfActions} actions will be chosen for each of the {numOfStates} States of nature to achieve one or more of the management objectives\")\n",
    "    "
   ]
  },
  {
   "cell_type": "code",
   "execution_count": 32,
   "metadata": {},
   "outputs": [
    {
     "ename": "NameError",
     "evalue": "name 'payoffs' is not defined",
     "output_type": "error",
     "traceback": [
      "\u001b[1;31m---------------------------------------------------------------------------\u001b[0m",
      "\u001b[1;31mNameError\u001b[0m                                 Traceback (most recent call last)",
      "\u001b[1;32m<ipython-input-32-419ae2b75d48>\u001b[0m in \u001b[0;36m<module>\u001b[1;34m\u001b[0m\n\u001b[0;32m      1\u001b[0m \u001b[1;31m#View loaded data before running experiments\u001b[0m\u001b[1;33m\u001b[0m\u001b[1;33m\u001b[0m\u001b[1;33m\u001b[0m\u001b[0m\n\u001b[1;32m----> 2\u001b[1;33m \u001b[0mprint\u001b[0m\u001b[1;33m(\u001b[0m\u001b[0mpayoffs\u001b[0m\u001b[1;33m)\u001b[0m\u001b[1;33m\u001b[0m\u001b[1;33m\u001b[0m\u001b[0m\n\u001b[0m",
      "\u001b[1;31mNameError\u001b[0m: name 'payoffs' is not defined"
     ]
    }
   ],
   "source": [
    "#View loaded data before running experiments\n",
    "print(payoffs)"
   ]
  },
  {
   "cell_type": "code",
   "execution_count": 9,
   "metadata": {},
   "outputs": [],
   "source": [
    "#beliefInState"
   ]
  },
  {
   "cell_type": "code",
   "execution_count": 10,
   "metadata": {},
   "outputs": [],
   "source": [
    "#print(priorBeliefs)"
   ]
  },
  {
   "cell_type": "code",
   "execution_count": 12,
   "metadata": {},
   "outputs": [],
   "source": [
    "#print(np.array(updatedPayoffs).shape) #Shape of the payoff matrix : n actions by m states of nature or hypotheses"
   ]
  },
  {
   "cell_type": "code",
   "execution_count": null,
   "metadata": {},
   "outputs": [],
   "source": [
    "#EVPIs = runEVPI(updatedPayoffs,'All',priorBeliefs)"
   ]
  },
  {
   "cell_type": "code",
   "execution_count": 13,
   "metadata": {
    "scrolled": true
   },
   "outputs": [],
   "source": [
    "\n",
    "#beliefInState,payoffs"
   ]
  },
  {
   "cell_type": "markdown",
   "metadata": {},
   "source": [
    "<h1>Perform VoI Analysis</h1>\n",
    "This includes Expected value of Perfect Information (EVPI) and Expected Value of Partial Information (EVPXI)<p>\n",
    "    <b>V(a, s) </b> is the cost of an action, $a$, for a given state of nature, $s$, as computed from the simulation of the Transmission model. </p>\n",
    "    <p>\n",
    "    <b>B</b> is the total number of ICU patients that can be provided with ICU beds using the monetary budget, $L$.</p> \n",
    "    <p>\n",
    "    <b>$P_s$</b> is the belief in the hypothesis or state of nature, $s$. </p>\n",
    "    <p>\n",
    "    <b>$N$</b> Number of Hypotheses or States of Nature considered. $ N=27$ for combined parameters and 3 for Individual Parameters. </p>\n",
    "    \n",
    "<h3>Compute EVPI</h3>\n",
    "$EVPI=EV_{certainty}-EV_{uncertainty} $ \n",
    "\n",
    "$EV_{uncertainty}=Min_a |\\{\\sum_{s=1}^N V(a,s).p_s \\}|$\n",
    "\n",
    "$EV_{certainty} ={\\sum_{s=1}^N Min_a |V(a,s) |.p_s }$\n",
    "\n",
    "$U(s) = V(s) - B_a$\n",
    "\n",
    "$V(a,s) = \\gamma *| U(s) |$ if $U(a,s) < 0 $\n",
    "\n",
    "$V(a,s) =  * U(s)$, otherwise.\n",
    "                                                    "
   ]
  },
  {
   "cell_type": "code",
   "execution_count": 14,
   "metadata": {},
   "outputs": [],
   "source": [
    "#Transform mathematical equations into functions\n",
    "\n",
    "def runEVPI(analysisType,initialPayoffs,beliefInState,actions,):\n",
    "    \n",
    "    #General Variables\n",
    "    #a = np.array(updatedPayoffs)\n",
    "    numOfStates = len(beliefInState)\n",
    "    numberOfActions = len(actions)\n",
    "    validateInputs(beliefInState,initialPayoffs)\n",
    "    EVuncertnty=[0]*numberOfActions\n",
    "    updatedPayoffs =[[0 for i in range(numOfStates)] for j in range(numberOfActions) ] #updatedPayoffs  = [numberOfActions][numOf\n",
    "    #payoffNum = np.array(updatedPayoffs).shape\n",
    "\n",
    "    EVcertain=0\n",
    "    numGammas = len(gammas)\n",
    "    EVPI = [0]*numGammas # EVPI for each scaling factor\n",
    "\n",
    "    #if isinstance(priorBeliefs[0], list):\n",
    "    #    numOfDistribution = len(priorBeliefs)\n",
    "    #else:\n",
    "    numOfDistribution=1\n",
    "    \n",
    "    #The EVPIs for all Gammas using the same belief distribution\n",
    "    EVPIs =[[0 for i in range(numGammas)] for j in range(numOfDistribution) ] #EVPIs  = [numOfDistribution][numGammas]\n",
    "\n",
    "    #bDist = 0\n",
    "    #for bDist in range(numOfDistribution): #For each probability of belief in a hypothesis\n",
    "    #beliefInState,payoffs = loadExperiment(region,analysisType,priorBeliefs,initialPayoffs,bDist) #Use the selected input to load the appropriate payoff and probabilities\n",
    "        #loadExperiment(region,analysisType,bDist) \n",
    "       \n",
    "    for gm in range(numGammas):#For each scaling factor (gamma)\n",
    "        scaleFactor = gammas[gm]\n",
    "            \n",
    "        updatedPayoffs=generateNewPayoffs(initialPayoffs,scaleFactor,numberOfActions,numOfStates)\n",
    "        a = np.array(updatedPayoffs)\n",
    "        \n",
    "\n",
    "        # Compute Expected Value of Decision Under Uncertainty\n",
    "        for action in range(numberOfActions):\n",
    "            currentPayoffs = a[action,:]\n",
    "            EVuncertnty[action] = EVUncertainty(currentPayoffs,beliefInState)\n",
    "        EVDecisionUncertainty = min(abs(np.array(EVuncertnty))) \n",
    "        \n",
    "\n",
    "        #Compute EVcertainty\n",
    "        for belief in range(numOfStates):\n",
    "            currentBelief = beliefInState[belief]\n",
    "            currActionsperState = a[:,belief] #Get payoffs for each action corresponding to current state of nature\n",
    "            absValues = abs(np.array(currActionsperState))\n",
    "            currentStateOptimal = min(absValues)\n",
    "            indexofMin=absValues.argmin()\n",
    "            optimumActionForThisState = currentStateOptimal*currentBelief #EMV of optimal action\n",
    "            \n",
    "            EVcertain = EVcertain  + optimumActionForThisState\n",
    "\n",
    "        evpi = round(abs(EVcertain - EVDecisionUncertainty),2)\n",
    "       \n",
    "        EVPI[gm] = evpi\n",
    "        EVPIs[0][gm] =evpi #Save the EVPIs that relate to one probabilities distribution of priors\n",
    "   \n",
    "        \n",
    "        EVcertain=0 #Reset Sum for the next scale factor for impact excess bed allocation to COVID has on other diseases\n",
    "   \n",
    "     \n",
    "    print(f\"All EVPIs = {np.array(EVPIs)}\")\n",
    "    return np.array(EVPIs)\n",
    "\n",
    "       "
   ]
  },
  {
   "cell_type": "code",
   "execution_count": 33,
   "metadata": {},
   "outputs": [
    {
     "name": "stdout",
     "output_type": "stream",
     "text": [
      "Sum of probabilities = 1.0\n",
      "All EVPIs = [[ 0.    8.21 16.67 25.31 33.94 42.57 51.2  59.83 68.46 75.78 81.78]]\n",
      "Sum of probabilities = 0.99\n",
      "All EVPIs = [[ 0.   14.47 28.47 35.41 39.26 41.94 44.63 44.25 43.84 43.43 43.1 ]]\n",
      "Sum of probabilities = 1.0\n",
      "All EVPIs = [[ 0.   15.28 30.63 42.72 45.17 45.11 45.05 44.99 44.93 44.87 44.83]]\n",
      "Sum of probabilities = 1.0\n",
      "All EVPIs = [[ 0.   12.88 25.91 39.03 50.63 57.41 61.44 64.12 65.13 64.94 64.81]]\n"
     ]
    },
    {
     "name": "stderr",
     "output_type": "stream",
     "text": [
      "C:\\Users\\ezep\\AppData\\Roaming\\Python\\Python37\\site-packages\\ipykernel_launcher.py:50: UserWarning: Belief in State is not a probability distribution\n"
     ]
    }
   ],
   "source": [
    "befielfDistrib = 3 # 3 is Strong belief in severe outbreak\n",
    "beliefInState,payoffs = loadExperiment(region,analysisType,priorBeliefs,reg4Payoffs,befielfDistrib) #Use the selected input to load the appropriate payoff and probabilities\n",
    "EVPIStrongBeliefInSevereOutbreak = np.array(runEVPI(analysisType,payoffs,beliefInState,actions))[0]\n",
    "\n",
    "befielfDistrib = 2 # 2 is Strong belief in medium outbreak\n",
    "beliefInState,payoffs = loadExperiment(region,analysisType,priorBeliefs,reg4Payoffs,befielfDistrib) #Use the selected input to load the appropriate payoff and probabilities\n",
    "EVPIStrongBeliefInMediumOutbreak = np.array(runEVPI(analysisType,payoffs,beliefInState,actions))[0]\n",
    "\n",
    "befielfDistrib = 1 # 1 is Strong belief in low outbreak\n",
    "beliefInState,payoffs = loadExperiment(region,analysisType,priorBeliefs,reg4Payoffs,befielfDistrib) #Use the selected input to load the appropriate payoff and probabilities\n",
    "EVPIStrongBeliefInLowOutbreak = np.array(runEVPI(analysisType,payoffs,beliefInState,actions))[0]\n",
    "\n",
    "\n",
    "befielfDistrib = 0 # 0 is No prior belief in either Severe, Medium or Low outbreak -  the baseline scenario\n",
    "beliefInState,payoffs = loadExperiment(region,analysisType,priorBeliefs,reg4Payoffs,befielfDistrib) #Use the selected input to load the appropriate payoff and probabilities\n",
    "EVPINoPriorKnowledge = np.array(runEVPI(analysisType,payoffs,beliefInState,actions))[0]"
   ]
  },
  {
   "cell_type": "code",
   "execution_count": null,
   "metadata": {},
   "outputs": [],
   "source": []
  },
  {
   "cell_type": "markdown",
   "metadata": {},
   "source": [
    "### Prepare information for plots"
   ]
  },
  {
   "cell_type": "code",
   "execution_count": 34,
   "metadata": {},
   "outputs": [
    {
     "name": "stdout",
     "output_type": "stream",
     "text": [
      "[ 0.   12.88 25.91 39.03 50.63 57.41 61.44 64.12 65.13 64.94 64.81]\n",
      "[ 0.   15.28 30.63 42.72 45.17 45.11 45.05 44.99 44.93 44.87 44.83]\n",
      "[ 0.   14.47 28.47 35.41 39.26 41.94 44.63 44.25 43.84 43.43 43.1 ]\n",
      "[ 0.    8.21 16.67 25.31 33.94 42.57 51.2  59.83 68.46 75.78 81.78]\n"
     ]
    }
   ],
   "source": [
    "#AllEVPIs = np.array(EVPIs)\n",
    "\n",
    "print(EVPINoPriorKnowledge)\n",
    "print(EVPIStrongBeliefInLowOutbreak)\n",
    "print(EVPIStrongBeliefInMediumOutbreak)\n",
    "print(EVPIStrongBeliefInSevereOutbreak)\n",
    "        "
   ]
  },
  {
   "cell_type": "code",
   "execution_count": 35,
   "metadata": {},
   "outputs": [
    {
     "data": {
      "image/png": "[encoded data removed]",
      "text/plain": [
       "<Figure size 864x720 with 1 Axes>"
      ]
     },
     "metadata": {
      "needs_background": "light"
     },
     "output_type": "display_data"
    }
   ],
   "source": [
    "# Plot the above data\n",
    "maxCol = 1;maxRow = 1\n",
    "fig, axs = plt.subplots(maxRow, maxCol,figsize=(12, 10))\n",
    "#fig.suptitle('Sensitivity of the Scaling Factor, $\\gamma$ and Belief in States')\n",
    "axs.plot(gammas,EVPINoPriorKnowledge,lw=5)\n",
    "axs.plot(gammas,EVPIStrongBeliefInLowOutbreak,marker='*',color='g')\n",
    "axs.plot(gammas,EVPIStrongBeliefInMediumOutbreak,marker='x')\n",
    "axs.plot(gammas,EVPIStrongBeliefInSevereOutbreak,marker='v',color='r')\n",
    "\n",
    "#axs[0].set_title('Strong Belief(0.5)')\n",
    "#axs[0].set_xlabel('Scaling Factor,$\\gamma$ ')\n",
    "axs.set_xlabel('Scaling factor,$\\gamma$ ')\n",
    "axs.set_ylabel('EVPI (ICU beds)')\n",
    "axs.legend(['No prior knowledge','Strong belief in low outbreak','Strong belief in medium outbreak','Strong belief in severe outbreak'])\n",
    "axs.set_ylim([0, 95])\n",
    "ymin = 0\n",
    "ymax = 85\n",
    "axs.vlines(0.8, ymin, ymax, colors='y', linestyles='--', label='EVPXI')\n",
    "\n",
    "# Hide the right and top spines\n",
    "axs.spines.right.set_visible(False)\n",
    "axs.spines.top.set_visible(False)\n",
    "\n"
   ]
  },
  {
   "cell_type": "markdown",
   "metadata": {},
   "source": [
    "## Individual PArameter's EVPI Compared\n",
    "\n",
    "Each parameter is considered as Low, Medium or High without comsidering the effect of other two parameters"
   ]
  },
  {
   "cell_type": "code",
   "execution_count": 15,
   "metadata": {},
   "outputs": [],
   "source": [
    "\n",
    "\n",
    "#Average (CI95 values) of values where severity = Low, Medium or High\n",
    "severityData_r4 =  [0,65.0,982.89]  \n",
    "\n",
    "#Average (CI95 values) of values where Ro = Low, Medium and  High\n",
    "r0Data_r4 =[30.96, 451.12,565.82] \n",
    "\n",
    "childInfData_r4 =[265.0057687,381.8242251,401.0615308]\n",
    "\n",
    "combinedData = [severityData_r4,r0Data_r4,childInfData_r4]\n",
    "\n",
    "#Prior Beliefs in states of nature\n",
    "severityBelief = [0.2, 0.3,0.5]\n",
    "r0Belief = [0.2,0.3, 0.5]\n",
    "childInfBelief = [0.2, 0.3, 0.5]\n",
    "\n",
    "numOfStates = len(severityBelief)\n",
    "\n",
    "combinedProbability = [[0.33,0.33,0.34],severityBelief,r0Belief,childInfBelief]"
   ]
  },
  {
   "cell_type": "code",
   "execution_count": 20,
   "metadata": {},
   "outputs": [
    {
     "name": "stdout",
     "output_type": "stream",
     "text": [
      "[0, 65.0, 982.89]\n",
      "Length of payoff: 3\n",
      "Sum of probabilities = 1.0\n",
      "All EVPIs = [[ 0.    9.9  19.8  29.7  39.6  50.32 55.78 60.24 64.2  65.85 67.5 ]]\n",
      "Sum of probabilities = 1.0\n",
      "All EVPIs = [[ 0.  3.  6.  9. 12. 15. 18. 21. 24. 27. 30.]]\n",
      "Sum of probabilities = 1.0\n",
      "All EVPIs = [[0. 0. 0. 0. 0. 0. 0. 0. 0. 0. 0.]]\n"
     ]
    },
    {
     "data": {
      "image/png": "[encoded data removed]",
      "text/plain": [
       "<Figure size 432x288 with 1 Axes>"
      ]
     },
     "metadata": {
      "needs_background": "light"
     },
     "output_type": "display_data"
    }
   ],
   "source": [
    "# Repeat for each parameter (R0, CS and CI)\n",
    "\n",
    "def runPerParameterEVPI():\n",
    "    analysisType = 'Severity'\n",
    "    befielfDistrib = 1\n",
    "    #Use the selected input to load the appropriate payoff and probabilities\n",
    "    beliefInState,payoffs = loadExperiment(region,analysisType,combinedProbability,combinedData,befielfDistrib)\n",
    "    print(payoffs)\n",
    "     \n",
    "    \n",
    "    #Validate Inputs and ensure probabilities sum to 1\n",
    "    payoffNum = np.array(payoffs).shape\n",
    "    numOfStates = len(beliefInState)\n",
    "    numberOfActions = len(actions)\n",
    "    #updatedPayoffs =[[0 for i in range(numOfStates)] for j in range(numberOfActions) ] #updatedPayoffs  = [numberOfActions][numOfStates]\n",
    "    #validateInputs(beliefInState,payoffs)\n",
    "    print(f\"Length of payoff: {len(payoffs)}\")\n",
    "    \n",
    "    EVPISeverity = runEVPI(analysisType,payoffs,beliefInState,actions)\n",
    "    \n",
    "    \n",
    "    analysisType = 'R0'\n",
    "    befielfDistrib = 2\n",
    "    beliefInState,payoffs = loadExperiment(region,analysisType,combinedProbability,combinedData,befielfDistrib)\n",
    "\n",
    "    EVPIR0 = runEVPI(analysisType,payoffs,beliefInState,actions)\n",
    "    \n",
    "    analysisType = 'ChildInf'\n",
    "    befielfDistrib = 3\n",
    "    beliefInState,payoffs = loadExperiment(region,analysisType,combinedProbability,combinedData,befielfDistrib)\n",
    "    EVPIChildInf = runEVPI(analysisType,payoffs,beliefInState,actions)\n",
    "   \n",
    "\n",
    "    labels2 = ['0', '0.1', '0.2', '0.3', '0.4','0.5', '0.6', '0.7', '0.8','0.9', '1.0']\n",
    "\n",
    "    #EVPISeverity= [[0,   7,   14,   21,   28, 36, 44,  52, 60,  68, 76]] #Run for Severity and collect data\n",
    "    #EVPIR0 = [[ 0,  3,  6,  9, 12, 15, 18, 21, 24, 27, 30]] #Run for R0 and collect data\n",
    "    #EVPIChildInf = [[0, 0, 0, 0, 0, 0, 0, 0, 0, 0, 0]]\n",
    "\n",
    "    #Flatten from 2D  to 1-D\n",
    "    EVPISeverity = list(chain.from_iterable(EVPISeverity))\n",
    "    EVPIR0 = list(chain.from_iterable(EVPIR0))\n",
    "\n",
    "    EVPIChildInf = list(chain.from_iterable(EVPIChildInf))\n",
    "\n",
    "    x = np.arange(len(labels2))  # the label locations\n",
    "    width = 0.4  # the width of the bars\n",
    "\n",
    "    fig, ax = plt.subplots()\n",
    "    rects1 = ax.bar(x - width, EVPISeverity, width, label='Case severity (CS)',color='orange')\n",
    "    rects2 = ax.bar(x, EVPIR0, width, label='$R_0$')\n",
    "    rects3 = ax.bar(x + (width), EVPIChildInf, width, label='Child infectioness (CI)',color='green')\n",
    "\n",
    "    # Hide the right and top spines\n",
    "    ax.spines.right.set_visible(False)\n",
    "    ax.spines.top.set_visible(False)\n",
    "\n",
    "    # Add some text for labels, title and custom x-axis tick labels, etc.\n",
    "    ax.set_ylabel('EVPI (ICU Beds)')\n",
    "    ax.set_xlabel('Scaling factor, $\\gamma$')\n",
    "    #ax.set_title('EVPI for each Parameter at different Scaling Factor, $\\gamma$')\n",
    "    ax.set_xticks(x)\n",
    "    ax.set_xticklabels(labels2)\n",
    "    ax.legend()\n",
    "    fig.tight_layout()\n",
    "\n",
    "runPerParameterEVPI()"
   ]
  },
  {
   "cell_type": "code",
   "execution_count": null,
   "metadata": {},
   "outputs": [],
   "source": []
  },
  {
   "cell_type": "markdown",
   "metadata": {},
   "source": []
  },
  {
   "cell_type": "code",
   "execution_count": 22,
   "metadata": {},
   "outputs": [
    {
     "data": {
      "text/plain": [
       "3"
      ]
     },
     "execution_count": 22,
     "metadata": {},
     "output_type": "execute_result"
    }
   ],
   "source": [
    "numOfStates"
   ]
  },
  {
   "cell_type": "code",
   "execution_count": null,
   "metadata": {},
   "outputs": [],
   "source": []
  },
  {
   "cell_type": "code",
   "execution_count": 58,
   "metadata": {},
   "outputs": [],
   "source": []
  },
  {
   "cell_type": "code",
   "execution_count": null,
   "metadata": {},
   "outputs": [],
   "source": []
  },
  {
   "cell_type": "code",
   "execution_count": 41,
   "metadata": {},
   "outputs": [],
   "source": []
  },
  {
   "cell_type": "code",
   "execution_count": null,
   "metadata": {},
   "outputs": [],
   "source": [
    "\n",
    "                "
   ]
  },
  {
   "cell_type": "code",
   "execution_count": null,
   "metadata": {},
   "outputs": [],
   "source": []
  },
  {
   "cell_type": "code",
   "execution_count": 326,
   "metadata": {},
   "outputs": [
    {
     "name": "stdout",
     "output_type": "stream",
     "text": [
      "All EVPIs = [[ 0.    7.   14.   21.   28.   35.75 43.8  51.85 59.9  67.95 76.  ]]\n",
      "All EVPIs = [[ 0.  3.  6.  9. 12. 15. 18. 21. 24. 27. 30.]]\n",
      "All EVPIs = [[0. 0. 0. 0. 0. 0. 0. 0. 0. 0. 0.]]\n"
     ]
    },
    {
     "data": {
      "image/png": "[encoded data removed]",
      "text/plain": [
       "<Figure size 720x432 with 1 Axes>"
      ]
     },
     "metadata": {
      "needs_background": "light"
     },
     "output_type": "display_data"
    }
   ],
   "source": []
  },
  {
   "cell_type": "markdown",
   "metadata": {},
   "source": [
    "<h2>Compute EVPXI</h2>"
   ]
  },
  {
   "cell_type": "code",
   "execution_count": 37,
   "metadata": {},
   "outputs": [],
   "source": [
    "befielfDistrib = 3 # 3 is Strong belief in severe outbreak\n",
    "analysisType = 'All'\n",
    "beliefInState,payoffs = loadExperiment(region,analysisType,priorBeliefs,reg4Payoffs,befielfDistrib) #Use the selected input to load the appropriate payoff and probabilities\n",
    "numOfStates = len(beliefInState)\n",
    "numGammas = len(gammas)\n",
    "budgetsevpxi = list(gammas)\n",
    "EVcertntyfalse = [0]*numberOfActions # Strictly used to compute expected value of removing uncertainty for hypothesis x rather than all the hypothesis\n",
    "EVuncertnty=[0]*numberOfActions\n",
    "EVPXI=[[0 for i in range(numOfStates)] for j in range(numGammas) ]\n",
    "\n",
    "countgammaPoints = 0\n",
    "for gm in range(numGammas):#For each scaling factor (gamma)\n",
    "    scaleFactor = gammas[gm]\n",
    "    #updatedPayoffs = generateNewPayoffs(scaleFactor)\n",
    "    updatedPayoffs = generateNewPayoffs(payoffs,scaleFactor,numberOfActions,numOfStates)\n",
    "    #print(updatedPayoffs)\n",
    "    a = np.array(updatedPayoffs)\n",
    "    for action in range(numberOfActions):\n",
    "        currentPayoffs = a[action,:]\n",
    "        EVuncertnty[action] = EVUncertainty(currentPayoffs,beliefInState)\n",
    "    EVDecisionUncertainty = min(abs(np.array(EVuncertnty))) # Expected Value of Decision Under Uncertainty\n",
    "    #print(EVDecisionUncertainty)\n",
    "    \n",
    "    \n",
    "    #Compute EVXPI for each State of nature\n",
    "    for belief in range(numOfStates):\n",
    "        currentBelief = beliefInState[belief]\n",
    "        tempState = beliefInState.copy()\n",
    "        falseBelief = 1 - currentBelief\n",
    "        del tempState[belief]\n",
    "        #print(tempState)\n",
    "        newOtherBeliefs = renormaliseBeliefs(np.array(tempState),falseBelief)\n",
    "        #print(newOtherBeliefs)\n",
    "        currActionsperState = a[:,belief] #Get payoffs for each action corresponding to current state of nature\n",
    "        \n",
    "        \n",
    "        absDifferenceWithBudget = abs(np.array(currActionsperState))\n",
    "        currentStateOptimal = min(absDifferenceWithBudget)\n",
    "        #print(currActionsperState)\n",
    "        #print(absDifferenceWithBudget)\n",
    "        #print(f\"Current optimal is: \",currentStateOptimal)\n",
    "        firstTermOfEVxCertainty = currentStateOptimal*currentBelief\n",
    "        \n",
    "        otherActionsPayoff = copy.deepcopy(updatedPayoffs) # Make a copy of the original payoff matrix, https://realpython.com/copying-python-objects/\n",
    "       \n",
    "       \n",
    "        for action in range(numberOfActions):\n",
    "            toArray = np.array(otherActionsPayoff)\n",
    "            currPayoffFalse = toArray[action,:]\n",
    "            cpayoffFalse = list(currPayoffFalse).copy()\n",
    "            #print(len(cpayoffFalse))\n",
    "            del  cpayoffFalse[belief]\n",
    "            #print(len(cpayoffFalse))\n",
    "            EVcertntyfalse[action] = EVUncertainty(cpayoffFalse,newOtherBeliefs)\n",
    "        \n",
    "        EVDecisionCertaintyFalse = min(abs(np.array(EVcertntyfalse))) # Expected Value of Decision Under Certainty For EVPXI\n",
    "        secondTermofEVxCertainty = falseBelief * EVDecisionCertaintyFalse\n",
    "        EVCertaintyx = firstTermOfEVxCertainty + secondTermofEVxCertainty\n",
    "        #print(EVCertaintyx)\n",
    "        evpxi =  abs(EVCertaintyx - EVDecisionUncertainty)\n",
    "        EVPXI[gm][belief] = evpxi\n",
    "        #print(evpxi)\n",
    "        #EVPXI[belief] = EVCertaintyx - EVDecisionUncertainty\n",
    "    countgammaPoints = countgammaPoints + 1\n",
    "    #print(f\" gm: {gammas[gm]}\")\n",
    "#print(f\" EVPXIs: {np.array(EVPXI)}\")\n",
    "        "
   ]
  },
  {
   "cell_type": "code",
   "execution_count": 38,
   "metadata": {},
   "outputs": [
    {
     "name": "stdout",
     "output_type": "stream",
     "text": [
      "[1.2  1.8  3.   1.8  2.7  4.5  3.   4.5  2.5  1.8  2.7  4.5  2.7  2.7\n",
      " 2.32 1.5  2.25 4.81 3.   4.5  7.5  3.   2.06 1.06 2.5  4.81 9.81]\n"
     ]
    }
   ],
   "source": [
    "print (np.round(EVPXI[10],2))\n"
   ]
  },
  {
   "cell_type": "code",
   "execution_count": 39,
   "metadata": {},
   "outputs": [
    {
     "name": "stdout",
     "output_type": "stream",
     "text": [
      " EVPXIs: 27\n"
     ]
    }
   ],
   "source": [
    "print(f\" EVPXIs: {numOfStates}\")"
   ]
  },
  {
   "cell_type": "code",
   "execution_count": 40,
   "metadata": {},
   "outputs": [
    {
     "name": "stdout",
     "output_type": "stream",
     "text": [
      "27\n"
     ]
    }
   ],
   "source": [
    "print(len(EVPXI[7]))"
   ]
  },
  {
   "cell_type": "markdown",
   "metadata": {},
   "source": [
    "<h3> Plots </h3>"
   ]
  },
  {
   "cell_type": "code",
   "execution_count": 41,
   "metadata": {},
   "outputs": [],
   "source": [
    "#Plot helper functions\n",
    "def ICUBeds(x, pos):\n",
    "    'The two args are the value and tick position'\n",
    "    return '%1.1f' % (x * 1)\n",
    "\n",
    "formatter = FuncFormatter(ICUBeds)"
   ]
  },
  {
   "cell_type": "code",
   "execution_count": 44,
   "metadata": {},
   "outputs": [
    {
     "data": {
      "text/plain": [
       "Text(3, 2.9629200000000084, 'High Enough EVPXI')"
      ]
     },
     "execution_count": 44,
     "metadata": {},
     "output_type": "execute_result"
    },
    {
     "data": {
      "image/png": "[encoded data removed]",
      "text/plain": [
       "<Figure size 1296x576 with 1 Axes>"
      ]
     },
     "metadata": {
      "needs_background": "light"
     },
     "output_type": "display_data"
    }
   ],
   "source": [
    "#Plot EVPXI of the budget with largest EVPI\n",
    "\n",
    "plt.rcParams.update({'font.size': 14})\n",
    "plt.rc('xtick', labelsize= 12)    # fontsize of the tick labels\n",
    "\n",
    "evpxi = EVPXI[10] #Select the gamma to plot\n",
    "x = np.arange(numOfStates)\n",
    "#x = gammas\n",
    "if analysisType != \"All\":\n",
    "    fig, ax = plt.subplots(figsize=(8, 5))\n",
    "else:\n",
    "    fig, ax = plt.subplots(figsize=(18, 8))\n",
    "ax.yaxis.set_major_formatter(formatter)\n",
    "#plt.bar(x, abs(np.array(evpxi)))\n",
    "plt.bar(x, evpxi)\n",
    "plt.xticks(x, labels)\n",
    "\n",
    "# Hide the right and top spines\n",
    "ax.spines.right.set_visible(False)\n",
    "ax.spines.top.set_visible(False)\n",
    "#plt.title(f'EVPXI at $\\gamma={1.0}$ and with Strong believe ($p_s = 0.5 $) in Severe Outbreak')\n",
    "#plt.xlabel('Hypothesis')\n",
    "plt.ylabel('EVPXI (No. of ICU Beds)')\n",
    "maxevpxi = max(evpxi)\n",
    "highEnoughEVPXI = 0.2*maxevpxi\n",
    "\n",
    "plt.axhline(y=2, color='y', linestyle='--',label='High Enough EVPXI')\n",
    "#plt.axhline(y=10, color='b', linestyle='-',label='Max EVPXI')\n",
    "plt.annotate('High Enough EVPXI', xy=(2, highEnoughEVPXI), xytext=(3, highEnoughEVPXI + 1),\n",
    "            arrowprops=dict(facecolor='black', shrink=0.05),\n",
    "            )\n",
    "#plt.annotate('Maximum EVPXI', xy=(26.2, maxevpxi), xytext=(9.8, maxevpxi-1),\n",
    "#            arrowprops=dict(facecolor='black', shrink=0.05),\n",
    "#            )\n",
    "#plt.legend()\n",
    "#plt.grid(color='b', linestyle='--', linewidth=1,which='major', axis='y')"
   ]
  },
  {
   "cell_type": "code",
   "execution_count": 356,
   "metadata": {},
   "outputs": [
    {
     "data": {
      "text/plain": [
       "array([[ 0.  ,  0.  ,  0.  ],\n",
       "       [ 4.  ,  3.  ,  5.  ],\n",
       "       [ 8.  ,  6.  , 10.  ],\n",
       "       [12.  ,  9.  , 16.65],\n",
       "       [16.  , 12.  , 23.7 ],\n",
       "       [20.  , 15.75, 30.75],\n",
       "       [24.  , 19.8 , 37.8 ],\n",
       "       [28.  , 23.85, 44.85],\n",
       "       [32.  , 27.9 , 51.9 ],\n",
       "       [36.  , 31.95, 58.95],\n",
       "       [40.  , 36.  , 66.  ]])"
      ]
     },
     "execution_count": 356,
     "metadata": {},
     "output_type": "execute_result"
    }
   ],
   "source": [
    "\n",
    "np.round(EVPXI,2)"
   ]
  },
  {
   "cell_type": "code",
   "execution_count": 357,
   "metadata": {},
   "outputs": [
    {
     "data": {
      "text/plain": [
       "<Figure size 1080x360 with 0 Axes>"
      ]
     },
     "metadata": {},
     "output_type": "display_data"
    },
    {
     "data": {
      "image/png": "[encoded data removed]",
      "text/plain": [
       "<Figure size 720x432 with 1 Axes>"
      ]
     },
     "metadata": {
      "needs_background": "light"
     },
     "output_type": "display_data"
    }
   ],
   "source": [
    "fig = plt.figure(figsize= (15,5))\n",
    "labels2 = ['0', '0.1', '0.2', '0.3', '0.4','0.5', '0.6', '0.7', '0.8','0.9', '1.0']\n",
    "\n",
    "Low = np.round(np.array(EVPXI)[:,0],1)\n",
    "Medium = np.array(EVPXI)[:,1]\n",
    "High  = np.array(EVPXI)[:,2]\n",
    "\n",
    "\n",
    "x = np.arange(len(labels2))  # the label locations\n",
    "width = 0.2  # the width of the bars\n",
    "\n",
    "fig, ax = plt.subplots()\n",
    "rects1 = ax.bar(x - width, Low, width, label=labels[0])\n",
    "rects2 = ax.bar(x, Medium, width, label=labels[1])\n",
    "rects3 = ax.bar(x + width, High, width, label=labels[2])\n",
    "\n",
    "# Add some text for labels, title and custom x-axis tick labels, etc.\n",
    "ax.set_ylabel('EVPXI (ICU Beds)')\n",
    "ax.set_xlabel(' Scaling factor, $\\gamma$')\n",
    "#ax.set_title('$R_0$: Variation of EVPXI with Scaling Factor, $\\gamma$')\n",
    "ax.set_xticks(x)\n",
    "ax.set_xticklabels(labels2)\n",
    "ax.legend()\n",
    "plt.rcParams.update({'font.size': 20})\n",
    "\n",
    "SMALL_SIZE = 10\n",
    "MEDIUM_SIZE = 15\n",
    "BIGGER_SIZE = 20\n",
    "\n",
    "# Hide the right and top spines\n",
    "ax.spines.right.set_visible(False)\n",
    "ax.spines.top.set_visible(False)\n",
    "\n",
    "plt.rc('font', size=BIGGER_SIZE)          # controls default text sizes\n",
    "plt.rc('axes', titlesize=BIGGER_SIZE)     # fontsize of the axes title\n",
    "plt.rc('axes', labelsize=MEDIUM_SIZE)    # fontsize of the x and y labels\n",
    "plt.rc('xtick', labelsize=BIGGER_SIZE)    # fontsize of the tick labels\n",
    "plt.rc('ytick', labelsize=BIGGER_SIZE)    # fontsize of the tick labels\n",
    "plt.rc('legend', fontsize=BIGGER_SIZE)    # legend fontsize\n",
    "#plt.rc('figure', titlesize=BIGGER_SIZE)  # fontsize of the figure title\n",
    "\n",
    "\n",
    "\n",
    "\n",
    "#fig.tight_layout()\n"
   ]
  },
  {
   "cell_type": "code",
   "execution_count": null,
   "metadata": {},
   "outputs": [],
   "source": []
  },
  {
   "cell_type": "code",
   "execution_count": 135,
   "metadata": {},
   "outputs": [
    {
     "name": "stdout",
     "output_type": "stream",
     "text": [
      "[[2.999999999999943, 0.0, 0.0], [6.0, 0.0, 0.0], [9.0, 0.0, 0.0], [12.0, 0.0, 0.0], [15.0, 0.0, 0.0], [17.999999999999943, 0.0, 0.0], [21.0, 0.0, 0.0], [24.0, 5.684341886080802e-14, 0.0], [26.999999999999943, 0.0, 0.0], [30.0, 0.0, 0.0]]\n"
     ]
    }
   ],
   "source": [
    "print(EVPXI[1:])"
   ]
  },
  {
   "cell_type": "code",
   "execution_count": 136,
   "metadata": {},
   "outputs": [
    {
     "name": "stdout",
     "output_type": "stream",
     "text": [
      "[ 0.  3.  6.  9. 12. 15. 18. 21. 24. 27. 30.]\n"
     ]
    }
   ],
   "source": [
    "print(np.array(EVPXI)[:,0])\n"
   ]
  },
  {
   "cell_type": "code",
   "execution_count": 74,
   "metadata": {},
   "outputs": [
    {
     "name": "stdout",
     "output_type": "stream",
     "text": [
      "[0.0, 0.2675249400000155, 2.842170943040401e-14, 0.0, 1.767524940000044, 2.842170943040401e-14, 2.842170943040401e-14, 0.0, 3.5999999999999943, 0.0, 1.767524940000044, 0.2675249400000155, 2.842170943040401e-14, 5.762822249999971, 8.354023650000016, 4.0, 10.0, 5.999999999999972, 0.0, 0.0, 0.0, 1.0, 7.151351200000022, 4.851363719999995, 1.6000000000000227, 4.0, 2.3999999999999773]\n"
     ]
    }
   ],
   "source": [
    "print(EVPXI[10])"
   ]
  },
  {
   "cell_type": "code",
   "execution_count": 784,
   "metadata": {},
   "outputs": [],
   "source": []
  },
  {
   "cell_type": "code",
   "execution_count": null,
   "metadata": {},
   "outputs": [],
   "source": []
  },
  {
   "cell_type": "markdown",
   "metadata": {},
   "source": []
  },
  {
   "cell_type": "code",
   "execution_count": null,
   "metadata": {},
   "outputs": [],
   "source": []
  },
  {
   "cell_type": "code",
   "execution_count": null,
   "metadata": {},
   "outputs": [],
   "source": []
  },
  {
   "cell_type": "code",
   "execution_count": null,
   "metadata": {},
   "outputs": [],
   "source": []
  },
  {
   "cell_type": "code",
   "execution_count": 107,
   "metadata": {},
   "outputs": [],
   "source": [
    "df['actions'] = actionNames\n",
    "df.set_index(\"actions\",drop=True,inplace=True)"
   ]
  },
  {
   "cell_type": "code",
   "execution_count": 108,
   "metadata": {},
   "outputs": [
    {
     "data": {
      "text/html": [
       "<div>\n",
       "<style scoped>\n",
       "    .dataframe tbody tr th:only-of-type {\n",
       "        vertical-align: middle;\n",
       "    }\n",
       "\n",
       "    .dataframe tbody tr th {\n",
       "        vertical-align: top;\n",
       "    }\n",
       "\n",
       "    .dataframe thead th {\n",
       "        text-align: right;\n",
       "    }\n",
       "</style>\n",
       "<table border=\"1\" class=\"dataframe\">\n",
       "  <thead>\n",
       "    <tr style=\"text-align: right;\">\n",
       "      <th></th>\n",
       "      <th>0</th>\n",
       "      <th>1</th>\n",
       "      <th>2</th>\n",
       "    </tr>\n",
       "    <tr>\n",
       "      <th>actions</th>\n",
       "      <th></th>\n",
       "      <th></th>\n",
       "      <th></th>\n",
       "    </tr>\n",
       "  </thead>\n",
       "  <tbody>\n",
       "    <tr>\n",
       "      <th>CI05</th>\n",
       "      <td>0</td>\n",
       "      <td>0</td>\n",
       "      <td>0.000000</td>\n",
       "    </tr>\n",
       "    <tr>\n",
       "      <th>CI95</th>\n",
       "      <td>0</td>\n",
       "      <td>0</td>\n",
       "      <td>6.262394</td>\n",
       "    </tr>\n",
       "    <tr>\n",
       "      <th>Mean</th>\n",
       "      <td>0</td>\n",
       "      <td>0</td>\n",
       "      <td>1.544850</td>\n",
       "    </tr>\n",
       "  </tbody>\n",
       "</table>\n",
       "</div>"
      ],
      "text/plain": [
       "         0  1         2\n",
       "actions                \n",
       "CI05     0  0  0.000000\n",
       "CI95     0  0  6.262394\n",
       "Mean     0  0  1.544850"
      ]
     },
     "execution_count": 108,
     "metadata": {},
     "output_type": "execute_result"
    }
   ],
   "source": [
    "df.tail()"
   ]
  },
  {
   "cell_type": "code",
   "execution_count": 109,
   "metadata": {},
   "outputs": [
    {
     "data": {
      "text/plain": [
       "Text(0.5, 1.0, 'Region1: Payoffs (Costs) for each action')"
      ]
     },
     "execution_count": 109,
     "metadata": {},
     "output_type": "execute_result"
    },
    {
     "data": {
      "image/png": "[encoded data removed]",
      "text/plain": [
       "<Figure size 432x288 with 1 Axes>"
      ]
     },
     "metadata": {
      "needs_background": "light"
     },
     "output_type": "display_data"
    }
   ],
   "source": [
    "df = df.transpose()\n",
    "ax = sns.boxplot(data=df,palette=\"Set3\")\n",
    "plt.title(f'{region}: Payoffs (Costs) for each action')"
   ]
  },
  {
   "cell_type": "code",
   "execution_count": 110,
   "metadata": {},
   "outputs": [
    {
     "data": {
      "text/plain": [
       "Text(0.5, 1.0, 'Region1: Payoffs (Costs) for each action')"
      ]
     },
     "execution_count": 110,
     "metadata": {},
     "output_type": "execute_result"
    },
    {
     "data": {
      "image/png": "[encoded data removed]",
      "text/plain": [
       "<Figure size 432x288 with 1 Axes>"
      ]
     },
     "metadata": {
      "needs_background": "light"
     },
     "output_type": "display_data"
    }
   ],
   "source": [
    "ax = sns.violinplot(data=df,palette=\"Set2\",scale=\"count\", inner=\"stick\",\n",
    "                    scale_hue=False, bw=.2)\n",
    "plt.ylabel('ICU Beds')\n",
    "plt.title(f'{region}: Payoffs (Costs) for each action')"
   ]
  },
  {
   "cell_type": "markdown",
   "metadata": {},
   "source": [
    "<H1> Study the EVXPI of each of R_0, Severity and Child Infectiousness </H1>"
   ]
  },
  {
   "cell_type": "code",
   "execution_count": 137,
   "metadata": {},
   "outputs": [],
   "source": [
    "#Functions for batch processing of VoI\n",
    "def computeEVPI(budget):\n",
    "    global EVuncertnty,EVDecisionUncertainty\n",
    "    EVcertain=0 \n",
    "    # Compute Expected Value of Decision Under Uncertainty\n",
    "    for action in range(numberOfActions):\n",
    "        currentPayoffs = a[action,:]\n",
    "        EVuncertnty[action] = EVUncertainty(currentPayoffs,beliefInState)\n",
    "    EVDecisionUncertainty = min(abs(np.array(EVuncertnty))) \n",
    "    \n",
    "    #Compute EVcertainty\n",
    "    for belief in range(numOfStates):\n",
    "        currentBelief = beliefInState[belief]\n",
    "        currActionsperState = a[:,belief] #Get payoffs for each action corresponding to current state of nature\n",
    "        absDifferenceWithBudget = abs(np.array(currActionsperState) - budget)\n",
    "        currentStateOptimal = min(absDifferenceWithBudget)\n",
    "        indexofMin=absDifferenceWithBudget.argmin()\n",
    "        optimumActionForThisState = a[indexofMin][belief]*currentBelief #EMV of optimal decision without considering budget\n",
    "        #print(f\" Hypothesis = {belief},Best Action = Purchase {getActionName(indexofMin) }({int(round(a[indexofMin][belief],0))}) ICU beds\")\n",
    "        thisEV = currentStateOptimal*currentBelief\n",
    "        EVcertain = EVcertain  + thisEV\n",
    "    evpi = abs(EVcertain - EVDecisionUncertainty)\n",
    "    return evpi\n",
    "\n",
    "def EVPIForBudgets(budgetpoints):\n",
    "    currentBudget = 0\n",
    "    numBudgetPoints = len(budgetPoints)\n",
    "    EVPIForBudgets = [0]*numBudgetPoints\n",
    "    for budget in budgetPoints:\n",
    "        EVPIForBudgets[currentBudget] = computeEVPI(budget)\n",
    "        currentBudget = currentBudget + 1\n",
    "    return EVPIForBudgets\n",
    "\n",
    "def computeEVPXI(budget):\n",
    "    global EVuncertnty,EVDecisionUncertainty\n",
    "    EVPXIfx = [0]*numOfStates\n",
    "    for action in range(numberOfActions):\n",
    "        currentPayoffs = a[action,:]\n",
    "        EVuncertnty[action] = EVUncertainty(currentPayoffs,beliefInState)\n",
    "    EVDecisionUncertainty = min(abs(np.array(EVuncertnty) - budget)) # Expected Value of Decision Under Uncertainty\n",
    "    \n",
    "    #Compute EVXPI for each State of nature/hypothesis\n",
    "    for belief in range(numOfStates):\n",
    "        currentBelief = beliefInState[belief]\n",
    "        tempState = beliefInState.copy()\n",
    "        falseBelief = 1 - currentBelief\n",
    "        del tempState[belief]\n",
    "        #print(tempState)\n",
    "        newOtherBeliefs = renormaliseBeliefs(np.array(tempState),falseBelief)\n",
    "        #print(newOtherBeliefs)\n",
    "        currActionsperState = a[:,belief] #Get payoffs for each action corresponding to current state of nature\n",
    "        \n",
    "        \n",
    "        absDifferenceWithBudget = abs(np.array(currActionsperState) - budget)\n",
    "        currentStateOptimal = min(absDifferenceWithBudget)\n",
    "        \n",
    "        firstTermOfEVxCertainty = currentStateOptimal*currentBelief\n",
    "        \n",
    "        otherActionsPayoff = copy.deepcopy(payoffs) # Make a copy of the original payoff matrix, https://realpython.com/copying-python-objects/\n",
    "        otherActionsPayof = removeCurrentPayoffs(otherActionsPayoff,belief) #Remove the Payoff for the state whose EVPXI is being computed\n",
    "        #print(otherActionsPayof)\n",
    "        for action in range(numberOfActions):\n",
    "            toArray = np.array(otherActionsPayof)\n",
    "            currPayoffFalse = toArray[action,:]\n",
    "            EVcertntyfalse[action] = EVUncertainty(currPayoffFalse,newOtherBeliefs)\n",
    "        \n",
    "        EVDecisionCertaintyFalse = min(abs(np.array(EVcertntyfalse) - budget)) # Expected Value of Decision Under Certainty For EVPXI\n",
    "        secondTermofEVxCertainty = falseBelief * EVDecisionCertaintyFalse\n",
    "        EVCertaintyx = firstTermOfEVxCertainty + secondTermofEVxCertainty\n",
    "        #EVPXI[countBugetPoints][belief] = abs(EVCertaintyx - EVDecisionUncertainty)\n",
    "        EVPXIfx[belief] = EVCertaintyx - EVDecisionUncertainty\n",
    "    return EVPXIfx\n",
    "\n",
    "def EVPXIForBudgets(budgetpoint):\n",
    "    currentBudget = 0\n",
    "    numBudgetPoints = len(budgetPoints)\n",
    "    EVPXIForBudgets = [0]*numBudgetPoints\n",
    "    for budget in budgetPoints:\n",
    "        EVPXIForBudgets[currentBudget] = computeEVPXI(budget)\n",
    "        currentBudget = currentBudget + 1\n",
    "    return EVPXIForBudgets\n",
    "    \n",
    "        "
   ]
  },
  {
   "cell_type": "code",
   "execution_count": 138,
   "metadata": {},
   "outputs": [
    {
     "name": "stdout",
     "output_type": "stream",
     "text": [
      "[30.0, 0.0, 0.0]\n"
     ]
    }
   ],
   "source": [
    "print(EVPXI[10])"
   ]
  },
  {
   "cell_type": "code",
   "execution_count": 139,
   "metadata": {},
   "outputs": [
    {
     "name": "stdout",
     "output_type": "stream",
     "text": [
      "Max EVPI: 950.8919999999998, Budget with Max EVPI: 1695 ICU beds, Index of the budget: 339\n"
     ]
    }
   ],
   "source": [
    "#Run EVPI first to find the budget with highest EVPI\n",
    "budgetPoints = range(0,1700,5)\n",
    "budgets = list(budgetPoints)\n",
    "numBudgetPoints = len(budgetPoints)\n",
    "EVPI = [0]*numBudgetPoints\n",
    "EVPI = EVPIForBudgets(budgets)\n",
    "#Prepare to run EVPXI with the budget with maximum EVPI\n",
    "indexOfMaxEVPI = np.array(EVPI).argmax()\n",
    "budgetWithMaxEVPI = budgets[indexOfMaxEVPI]\n",
    "print (f\"Max EVPI: {max(EVPI)}, Budget with Max EVPI: {budgetWithMaxEVPI} ICU beds, Index of the budget: {indexOfMaxEVPI}\")\n",
    "#print (EVPI)\n",
    "budget = budgetWithMaxEVPI #Use this to run EVPXI for each parameter"
   ]
  },
  {
   "cell_type": "code",
   "execution_count": 155,
   "metadata": {},
   "outputs": [],
   "source": [
    "#Prepare plot windows\n",
    "#Initialise variables\n",
    "numOfRegions = len(allRegions)\n",
    "numOfAnalysis = len(allAnalysisTypes)\n",
    "regCount = 0; analysisCount = 0;countBugetPoints = 0\n"
   ]
  },
  {
   "cell_type": "code",
   "execution_count": 158,
   "metadata": {},
   "outputs": [
    {
     "data": {
      "image/png": "[encoded data removed]",
      "text/plain": [
       "<Figure size 720x1080 with 4 Axes>"
      ]
     },
     "metadata": {
      "needs_background": "light"
     },
     "output_type": "display_data"
    },
    {
     "data": {
      "image/png": "[encoded data removed]",
      "text/plain": [
       "<Figure size 1296x1296 with 12 Axes>"
      ]
     },
     "metadata": {
      "needs_background": "light"
     },
     "output_type": "display_data"
    }
   ],
   "source": [
    "#Try running all experiments in one go\n",
    "fig, axs = plt.subplots(numOfRegions,figsize=(10, 15))\n",
    "numSubplotsCount=1\n",
    "\n",
    "\n",
    "#fig2 = plt.figure(figsize=(20, 20))\n",
    "fig2, axs2 = plt.subplots(numOfRegions, numOfAnalysis,figsize=(18, 18))\n",
    "EVPI2 =[[0 for i in range(numOfAnalysis)] for j in range(numOfRegions) ] #EVPI = [numOfRegions][numOfAnalysis]\n",
    "\n",
    "#EVPXIForBudgets2 = [[0]*numOfAnalysis]*numOfRegions\n",
    "#fig.suptitle('EVPI plots')\n",
    " \n",
    "for reg in allRegions: #For each region carry out Severity, R0, ChildInfectiousness, and Combined PArameter Analysis of VoI\n",
    "    if reg=='Region1':\n",
    "        ylimit = 0.3\n",
    "    elif reg=='Region2':\n",
    "        ylimit = 4\n",
    "    elif reg=='Region3':\n",
    "        ylimit = 1.5\n",
    "    elif reg=='Region4':\n",
    "        ylimit = 45 \n",
    "    for analysis in allAnalysisTypes:\n",
    "        payoffs = []\n",
    "        beliefInState = []\n",
    "        labels = []\n",
    "        loadExperiment(reg,analysis)\n",
    "        payoffNum = np.array(payoffs).shape\n",
    "        numOfStates = len(beliefInState)\n",
    "        numberOfActions = payoffNum[0]\n",
    "        EVuncertnty=[0]*numberOfActions\n",
    "        EVcertain = 0\n",
    "        EVcertntyfalse = [0]*numberOfActions # Strictly used to compute expected value of removing uncertainty for hypothesis x rather than all the hypothesis\n",
    "        EVPXIForBudgets2 = [[[0 for i in range(numOfStates)] for j in range(numOfAnalysis) ] for k in range(numOfRegions)]\n",
    "        #validateInputs()\n",
    "        a = np.array(payoffs)\n",
    "        EVPI = [0]*numBudgetPoints\n",
    "        EVPI = EVPIForBudgets(budgets)\n",
    "        \n",
    "        #Prepare to run EVPXI with the budget with maximum EVPI\n",
    "        indexOfMaxEVPI = np.array(EVPI).argmax()\n",
    "        maxEVPI = max(EVPI)\n",
    "        budgetWithMaxEVPI = budgets[indexOfMaxEVPI]\n",
    "        budget = budgetWithMaxEVPI #Use this to run EVPI and EVPXI for each parameter\n",
    "        EVPI2[regCount] [analysisCount]= computeEVPI(budget)\n",
    "        EVPXIForBudgets2[regCount] [analysisCount]= computeEVPXI(budget)\n",
    "        x = labels\n",
    "        #print(labels)\n",
    "       \n",
    "        numSubplotsCount = numSubplotsCount +1\n",
    "        \n",
    "        #axs2[regCount,analysisCount].plot(x,EVPXIForBudgets2[regCount][analysisCount],ls='--',color ='r')#axs2[regCount,analysisCount]\n",
    "        axs2[regCount][analysisCount].bar(x, EVPXIForBudgets2[regCount][analysisCount])\n",
    "        \n",
    "        axs2[regCount][analysisCount].set_title(f'{reg} EVPXI: (Budget={budgetWithMaxEVPI}, Max EVPI= {round(EVPI[indexOfMaxEVPI],2)})')\n",
    "        axs2[regCount][analysisCount].set_ylabel('EVPXI (No. of ICU Beds)')\n",
    "        axs2[regCount][analysisCount].grid(color='#C0C0C0', linestyle='--', linewidth=1,which='major', axis='y')\n",
    "        a=max(EVPXIForBudgets2[regCount])\n",
    "        thisRegionsylim = max(a)  #The largest value across all parameters for this region\n",
    "        #axs2[regCount,analysisCount].set_ylim([0, thisRegionsylim + 0.1*thisRegionsylim])\n",
    "        axs2[regCount,analysisCount].set_ylim([0, ylimit])\n",
    "        analysisCount = analysisCount + 1\n",
    "    x = allAnalysisTypes\n",
    "    #print(EVPI2)\n",
    "    axs[regCount].bar(x, EVPI2[regCount])\n",
    "    axs[regCount].set_ylabel('EVPI (No. of ICU Beds)')\n",
    "    axs[regCount].grid(color='#C0C0C0', linestyle='--', linewidth=1,which='major', axis='y')\n",
    "    axs[regCount].set_title(reg + ': EVPI(' + 'Budget:' + str(budget) + ')')\n",
    "    \n",
    "    regCount = regCount + 1\n",
    "    analysisCount = 0\n",
    "regCount=0\n",
    "#print (EVPI)"
   ]
  },
  {
   "cell_type": "code",
   "execution_count": null,
   "metadata": {},
   "outputs": [],
   "source": []
  },
  {
   "cell_type": "code",
   "execution_count": null,
   "metadata": {},
   "outputs": [],
   "source": []
  },
  {
   "cell_type": "code",
   "execution_count": null,
   "metadata": {},
   "outputs": [],
   "source": []
  },
  {
   "cell_type": "code",
   "execution_count": null,
   "metadata": {},
   "outputs": [],
   "source": []
  },
  {
   "cell_type": "code",
   "execution_count": null,
   "metadata": {},
   "outputs": [],
   "source": []
  },
  {
   "cell_type": "code",
   "execution_count": null,
   "metadata": {},
   "outputs": [],
   "source": []
  },
  {
   "cell_type": "code",
   "execution_count": null,
   "metadata": {},
   "outputs": [],
   "source": []
  },
  {
   "cell_type": "code",
   "execution_count": null,
   "metadata": {},
   "outputs": [],
   "source": []
  },
  {
   "cell_type": "code",
   "execution_count": 35,
   "metadata": {},
   "outputs": [],
   "source": []
  },
  {
   "cell_type": "code",
   "execution_count": null,
   "metadata": {},
   "outputs": [],
   "source": []
  },
  {
   "cell_type": "code",
   "execution_count": null,
   "metadata": {},
   "outputs": [],
   "source": []
  },
  {
   "cell_type": "code",
   "execution_count": null,
   "metadata": {},
   "outputs": [],
   "source": []
  },
  {
   "cell_type": "code",
   "execution_count": null,
   "metadata": {},
   "outputs": [],
   "source": []
  },
  {
   "cell_type": "code",
   "execution_count": null,
   "metadata": {},
   "outputs": [],
   "source": []
  },
  {
   "cell_type": "code",
   "execution_count": null,
   "metadata": {},
   "outputs": [],
   "source": []
  }
 ],
 "metadata": {
  "kernelspec": {
   "display_name": "Python 3",
   "language": "python",
   "name": "python3"
  },
  "language_info": {
   "codemirror_mode": {
    "name": "ipython",
    "version": 3
   },
   "file_extension": ".py",
   "mimetype": "text/x-python",
   "name": "python",
   "nbconvert_exporter": "python",
   "pygments_lexer": "ipython3",
   "version": "3.7.6"
  }
 },
 "nbformat": 4,
 "nbformat_minor": 4
}
